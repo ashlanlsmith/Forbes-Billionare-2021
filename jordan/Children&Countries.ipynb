{
 "cells": [
  {
   "cell_type": "code",
   "execution_count": 16,
   "id": "994f9cd6-e5d0-4ff9-a537-309c41a9f565",
   "metadata": {},
   "outputs": [],
   "source": [
    "%config InlineBackend.figure_format ='retina'"
   ]
  },
  {
   "cell_type": "code",
   "execution_count": 17,
   "id": "40bbb904-b587-4339-9103-e62f645c3320",
   "metadata": {},
   "outputs": [],
   "source": [
    "import pandas as pd\n",
    "import numpy as np\n",
    "import matplotlib.pyplot as plt\n",
    "import seaborn as sns\n",
    "import plotly.express as px\n",
    "import plotly.graph_objects as go\n",
    "import geopandas as gpd\n",
    "import folium\n",
    "from shapely.geometry import Point\n",
    "from shapely import wkt\n",
    "import dash\n",
    "import dash_core_components as dcc\n",
    "import dash_html_components as html\n",
    "from dash.dependencies import Input, Output"
   ]
  },
  {
   "cell_type": "code",
   "execution_count": 18,
   "id": "5bc555c0-b62a-435b-8025-114d64fd2c6b",
   "metadata": {},
   "outputs": [],
   "source": [
    "import matplotlib\n",
    "import matplotlib.pyplot as plt\n",
    "import warnings\n",
    "warnings.simplefilter(action='ignore', category=FutureWarning)"
   ]
  },
  {
   "cell_type": "code",
   "execution_count": 19,
   "id": "a4296445-5a7b-4055-87cc-fa4c150c4f0c",
   "metadata": {},
   "outputs": [
    {
     "name": "stdout",
     "output_type": "stream",
     "text": [
      "                          Name  NetWorth        Country         Source  Rank  \\\n",
      "0                   Jeff Bezos     177.0  United States         Amazon     1   \n",
      "1                    Elon Musk     151.0  United States  Tesla, SpaceX     2   \n",
      "2     Bernard Arnault & family     150.0         France           LVMH     3   \n",
      "3                   Bill Gates     124.0  United States      Microsoft     4   \n",
      "4              Mark Zuckerberg      97.0  United States       Facebook     5   \n",
      "...                        ...       ...            ...            ...   ...   \n",
      "2750         Daniel Yong Zhang       1.0          China     e-commerce  2674   \n",
      "2751             Zhang Yuqiang       1.0          China     Fiberglass  2674   \n",
      "2752             Zhao Meiguang       1.0          China    gold mining  2674   \n",
      "2753            Zhong Naixiong       1.0          China   conglomerate  2674   \n",
      "2754           Zhou Wei family       1.0          China       Software  2674   \n",
      "\n",
      "       Age              Residence    Citizenship           Status  Children  \\\n",
      "0     57.0    Seattle, Washington  United States  In Relationship       4.0   \n",
      "1     49.0          Austin, Texas  United States  In Relationship       7.0   \n",
      "2     72.0          Paris, France         France          Married       5.0   \n",
      "3     65.0     Medina, Washington  United States         Divorced       3.0   \n",
      "4     36.0  Palo Alto, California  United States          Married       2.0   \n",
      "...    ...                    ...            ...              ...       ...   \n",
      "2750  49.0        Hangzhou, China          China              NaN       NaN   \n",
      "2751  65.0       Tongxiang, China          China              NaN       NaN   \n",
      "2752  58.0           Jilin, China          China              NaN       NaN   \n",
      "2753  58.0          Foshan, China          China              NaN       NaN   \n",
      "2754  54.0        Shanghai, China          China          Married       NaN   \n",
      "\n",
      "                                              Education Self_made  \\\n",
      "0        Bachelor of Arts/Science, Princeton University      True   \n",
      "1     Bachelor of Arts/Science, University of Pennsy...      True   \n",
      "2     Bachelor of Arts/Science, Ecole Polytechnique ...     False   \n",
      "3                          Drop Out, Harvard University      True   \n",
      "4                          Drop Out, Harvard University      True   \n",
      "...                                                 ...       ...   \n",
      "2750                                                NaN      True   \n",
      "2751                                                NaN      True   \n",
      "2752                                                NaN      True   \n",
      "2753                                                NaN      True   \n",
      "2754                                                NaN      True   \n",
      "\n",
      "                                   geometry  \n",
      "0           POINT (-122.3300624 47.6038321)  \n",
      "1     POINT (-97.74369950000001 30.2711286)  \n",
      "2              POINT (2.3514616 48.8566969)  \n",
      "3            POINT (-122.2264453 47.620548)  \n",
      "4           POINT (-122.1598465 37.4443293)  \n",
      "...                                     ...  \n",
      "2750         POINT (120.2052342 30.2489634)  \n",
      "2751         POINT (120.5610365 30.6316971)  \n",
      "2752         POINT (125.9816054 42.9995032)  \n",
      "2753         POINT (113.1146335 23.0247687)  \n",
      "2754         POINT (121.4692071 31.2322758)  \n",
      "\n",
      "[2755 rows x 13 columns]\n"
     ]
    }
   ],
   "source": [
    "filepath = '../data/forbes_billionaires_geo.csv'\n",
    "data = pd.read_csv(filepath)\n",
    "print(data)"
   ]
  },
  {
   "cell_type": "code",
   "execution_count": 20,
   "id": "94922d7b-d105-46be-ae08-fc35f38f09d9",
   "metadata": {},
   "outputs": [
    {
     "data": {
      "text/html": [
       "<div>\n",
       "<style scoped>\n",
       "    .dataframe tbody tr th:only-of-type {\n",
       "        vertical-align: middle;\n",
       "    }\n",
       "\n",
       "    .dataframe tbody tr th {\n",
       "        vertical-align: top;\n",
       "    }\n",
       "\n",
       "    .dataframe thead th {\n",
       "        text-align: right;\n",
       "    }\n",
       "</style>\n",
       "<table border=\"1\" class=\"dataframe\">\n",
       "  <thead>\n",
       "    <tr style=\"text-align: right;\">\n",
       "      <th></th>\n",
       "      <th>Name</th>\n",
       "      <th>Children</th>\n",
       "      <th>Net Worth</th>\n",
       "    </tr>\n",
       "  </thead>\n",
       "  <tbody>\n",
       "    <tr>\n",
       "      <th>0</th>\n",
       "      <td>Jeff Bezos</td>\n",
       "      <td>4.0</td>\n",
       "      <td>177.0</td>\n",
       "    </tr>\n",
       "    <tr>\n",
       "      <th>1</th>\n",
       "      <td>Elon Musk</td>\n",
       "      <td>7.0</td>\n",
       "      <td>151.0</td>\n",
       "    </tr>\n",
       "    <tr>\n",
       "      <th>2</th>\n",
       "      <td>Bernard Arnault &amp; family</td>\n",
       "      <td>5.0</td>\n",
       "      <td>150.0</td>\n",
       "    </tr>\n",
       "    <tr>\n",
       "      <th>3</th>\n",
       "      <td>Bill Gates</td>\n",
       "      <td>3.0</td>\n",
       "      <td>124.0</td>\n",
       "    </tr>\n",
       "    <tr>\n",
       "      <th>4</th>\n",
       "      <td>Mark Zuckerberg</td>\n",
       "      <td>2.0</td>\n",
       "      <td>97.0</td>\n",
       "    </tr>\n",
       "    <tr>\n",
       "      <th>5</th>\n",
       "      <td>Warren Buffett</td>\n",
       "      <td>3.0</td>\n",
       "      <td>96.0</td>\n",
       "    </tr>\n",
       "    <tr>\n",
       "      <th>6</th>\n",
       "      <td>Larry Ellison</td>\n",
       "      <td>4.0</td>\n",
       "      <td>93.0</td>\n",
       "    </tr>\n",
       "    <tr>\n",
       "      <th>7</th>\n",
       "      <td>Larry Page</td>\n",
       "      <td>1.0</td>\n",
       "      <td>91.5</td>\n",
       "    </tr>\n",
       "    <tr>\n",
       "      <th>8</th>\n",
       "      <td>Sergey Brin</td>\n",
       "      <td>3.0</td>\n",
       "      <td>89.0</td>\n",
       "    </tr>\n",
       "    <tr>\n",
       "      <th>9</th>\n",
       "      <td>Mukesh Ambani</td>\n",
       "      <td>3.0</td>\n",
       "      <td>84.5</td>\n",
       "    </tr>\n",
       "  </tbody>\n",
       "</table>\n",
       "</div>"
      ],
      "text/plain": [
       "                       Name  Children  Net Worth\n",
       "0                Jeff Bezos       4.0      177.0\n",
       "1                 Elon Musk       7.0      151.0\n",
       "2  Bernard Arnault & family       5.0      150.0\n",
       "3                Bill Gates       3.0      124.0\n",
       "4           Mark Zuckerberg       2.0       97.0\n",
       "5            Warren Buffett       3.0       96.0\n",
       "6             Larry Ellison       4.0       93.0\n",
       "7                Larry Page       1.0       91.5\n",
       "8               Sergey Brin       3.0       89.0\n",
       "9             Mukesh Ambani       3.0       84.5"
      ]
     },
     "execution_count": 20,
     "metadata": {},
     "output_type": "execute_result"
    }
   ],
   "source": [
    "filepath = '../data/forbes_billionaires_geo.csv'\n",
    "data = pd.read_csv(filepath)\n",
    "name = data['Name'][:10]\n",
    "children = data['Children'][:10]\n",
    "networth = data['NetWorth'][:10]\n",
    "d = {\"Name\": name, \"Children\": children, \"Net Worth\": networth}\n",
    "df = pd.DataFrame(d)\n",
    "df"
   ]
  },
  {
   "cell_type": "code",
   "execution_count": 21,
   "id": "9e6d79c1-69b8-4057-8856-7362e0cf5af0",
   "metadata": {
    "tags": []
   },
   "outputs": [
    {
     "data": {
      "text/plain": [
       "3.5"
      ]
     },
     "execution_count": 21,
     "metadata": {},
     "output_type": "execute_result"
    }
   ],
   "source": [
    "df[\"Children\"][:10].mean()"
   ]
  },
  {
   "cell_type": "code",
   "execution_count": 14,
   "id": "503aafea-c3f1-41d8-8183-f36f8b0dce2d",
   "metadata": {},
   "outputs": [
    {
     "data": {
      "text/html": [
       "<div>\n",
       "<style scoped>\n",
       "    .dataframe tbody tr th:only-of-type {\n",
       "        vertical-align: middle;\n",
       "    }\n",
       "\n",
       "    .dataframe tbody tr th {\n",
       "        vertical-align: top;\n",
       "    }\n",
       "\n",
       "    .dataframe thead th {\n",
       "        text-align: right;\n",
       "    }\n",
       "</style>\n",
       "<table border=\"1\" class=\"dataframe\">\n",
       "  <thead>\n",
       "    <tr style=\"text-align: right;\">\n",
       "      <th></th>\n",
       "      <th>Name</th>\n",
       "      <th>Children</th>\n",
       "      <th>Net Worth</th>\n",
       "    </tr>\n",
       "  </thead>\n",
       "  <tbody>\n",
       "    <tr>\n",
       "      <th>0</th>\n",
       "      <td>Jeff Bezos</td>\n",
       "      <td>4.0</td>\n",
       "      <td>177.0</td>\n",
       "    </tr>\n",
       "    <tr>\n",
       "      <th>1</th>\n",
       "      <td>Elon Musk</td>\n",
       "      <td>7.0</td>\n",
       "      <td>151.0</td>\n",
       "    </tr>\n",
       "    <tr>\n",
       "      <th>2</th>\n",
       "      <td>Bernard Arnault &amp; family</td>\n",
       "      <td>5.0</td>\n",
       "      <td>150.0</td>\n",
       "    </tr>\n",
       "    <tr>\n",
       "      <th>3</th>\n",
       "      <td>Bill Gates</td>\n",
       "      <td>3.0</td>\n",
       "      <td>124.0</td>\n",
       "    </tr>\n",
       "    <tr>\n",
       "      <th>4</th>\n",
       "      <td>Mark Zuckerberg</td>\n",
       "      <td>2.0</td>\n",
       "      <td>97.0</td>\n",
       "    </tr>\n",
       "    <tr>\n",
       "      <th>...</th>\n",
       "      <td>...</td>\n",
       "      <td>...</td>\n",
       "      <td>...</td>\n",
       "    </tr>\n",
       "    <tr>\n",
       "      <th>95</th>\n",
       "      <td>Eric Schmidt</td>\n",
       "      <td>2.0</td>\n",
       "      <td>18.9</td>\n",
       "    </tr>\n",
       "    <tr>\n",
       "      <th>96</th>\n",
       "      <td>Sun Piaoyang</td>\n",
       "      <td>1.0</td>\n",
       "      <td>18.9</td>\n",
       "    </tr>\n",
       "    <tr>\n",
       "      <th>97</th>\n",
       "      <td>Theo Albrecht, Jr. &amp; family</td>\n",
       "      <td>1.0</td>\n",
       "      <td>18.8</td>\n",
       "    </tr>\n",
       "    <tr>\n",
       "      <th>98</th>\n",
       "      <td>Alisher Usmanov</td>\n",
       "      <td>NaN</td>\n",
       "      <td>18.4</td>\n",
       "    </tr>\n",
       "    <tr>\n",
       "      <th>99</th>\n",
       "      <td>Robert Pera</td>\n",
       "      <td>NaN</td>\n",
       "      <td>18.3</td>\n",
       "    </tr>\n",
       "  </tbody>\n",
       "</table>\n",
       "<p>100 rows × 3 columns</p>\n",
       "</div>"
      ],
      "text/plain": [
       "                           Name  Children  Net Worth\n",
       "0                    Jeff Bezos       4.0      177.0\n",
       "1                     Elon Musk       7.0      151.0\n",
       "2      Bernard Arnault & family       5.0      150.0\n",
       "3                    Bill Gates       3.0      124.0\n",
       "4               Mark Zuckerberg       2.0       97.0\n",
       "..                          ...       ...        ...\n",
       "95                 Eric Schmidt       2.0       18.9\n",
       "96                 Sun Piaoyang       1.0       18.9\n",
       "97  Theo Albrecht, Jr. & family       1.0       18.8\n",
       "98              Alisher Usmanov       NaN       18.4\n",
       "99                  Robert Pera       NaN       18.3\n",
       "\n",
       "[100 rows x 3 columns]"
      ]
     },
     "execution_count": 14,
     "metadata": {},
     "output_type": "execute_result"
    }
   ],
   "source": [
    "import pandas as pd\n",
    "filepath = '../data/forbes_billionaires_geo.csv'\n",
    "data = pd.read_csv(filepath)\n",
    "name = data['Name'][:100]\n",
    "children = data['Children'][:100]\n",
    "networth = data['NetWorth'][:100]\n",
    "d = {\"Name\": name, \"Children\": children, \"Net Worth\": networth}\n",
    "df = pd.DataFrame(d)\n",
    "df"
   ]
  },
  {
   "cell_type": "code",
   "execution_count": 13,
   "id": "38483dd8-b1f0-458f-a844-58ec159dd2f1",
   "metadata": {},
   "outputs": [
    {
     "data": {
      "text/plain": [
       "3.0972222222222223"
      ]
     },
     "execution_count": 13,
     "metadata": {},
     "output_type": "execute_result"
    }
   ],
   "source": [
    "df[\"Children\"][:100].mean()"
   ]
  },
  {
   "cell_type": "code",
   "execution_count": 12,
   "id": "685ff987-4ec5-4506-ac4d-9a763f5cec08",
   "metadata": {},
   "outputs": [
    {
     "data": {
      "image/png": "[encoded data removed]",
      "text/plain": [
       "<Figure size 1080x576 with 1 Axes>"
      ]
     },
     "metadata": {
      "needs_background": "light"
     },
     "output_type": "display_data"
    }
   ],
   "source": [
    "import pandas as pd\n",
    "filepath = '../data/forbes_billionaires_geo.csv'\n",
    "data = pd.read_csv(filepath)\n",
    "fig, ax = plt.subplots(figsize=(15, 8))\n",
    "ax.scatter(x = data['NetWorth'], y = data['Children'])\n",
    "plt.xlabel(\"NetWorth\")\n",
    "plt.ylabel(\"Children\")\n",
    "plt.title(\"Number of Children & Net Worth\");\n",
    "\n",
    "plt.show()\n",
    "fig.figure.savefig('kids1.pdf', bbox_inches='tight')"
   ]
  },
  {
   "cell_type": "code",
   "execution_count": 13,
   "id": "66b8f003-44a5-426a-90ae-6123ee083d90",
   "metadata": {
    "tags": []
   },
   "outputs": [
    {
     "data": {
      "image/png": "[encoded data removed]",
      "text/plain": [
       "<Figure size 1080x576 with 1 Axes>"
      ]
     },
     "metadata": {
      "needs_background": "light"
     },
     "output_type": "display_data"
    }
   ],
   "source": [
    "fig, ax = plt.subplots(figsize=(15, 8))\n",
    "ax.scatter(x = data['NetWorth'][:100], y = data['Children'][:100])\n",
    "plt.xlabel(\"NetWorth\")\n",
    "plt.ylabel(\"Children\")\n",
    "plt.title(\"Number of Children & Net Worth-Top 100\");\n",
    "\n",
    "plt.show()\n",
    "fig.figure.savefig('kids2.pdf', bbox_inches='tight')"
   ]
  },
  {
   "cell_type": "code",
   "execution_count": 8,
   "id": "d89cdb3e-32b3-4291-9da7-399546fc4168",
   "metadata": {},
   "outputs": [
    {
     "data": {
      "image/png": "[encoded data removed]",
      "text/plain": [
       "<Figure size 1440x360 with 1 Axes>"
      ]
     },
     "metadata": {
      "image/png": {
       "height": 331,
       "width": 1157
      },
      "needs_background": "light"
     },
     "output_type": "display_data"
    }
   ],
   "source": [
    "import requests\n",
    "import io\n",
    "import pandas as pd\n",
    "import plotly.express as px\n",
    "import numpy as np\n",
    "import matplotlib.pyplot as plt\n",
    "import seaborn as sns\n",
    "import plotly.express as px\n",
    "import plotly.graph_objects as go\n",
    "import geopandas as gpd\n",
    "import folium\n",
    "from shapely.geometry import Point\n",
    "from shapely import wkt\n",
    "\n",
    "filepath = '../data/forbes_billionaires_geo.csv'\n",
    "df = pd.read_csv(filepath)\n",
    "\n",
    "\n",
    "def divideBy100(number):\n",
    "    return number / 100\n",
    "\n",
    "\n",
    "names = df['Name'][:10]\n",
    "sizeOfEntries = len(names)\n",
    "children = df['Children'][:10]\n",
    "netWorth = list(map(divideBy100, df['NetWorth'][:10]))\n",
    "\n",
    "plt.figure(figsize=(20,5))\n",
    "X = np.arange(sizeOfEntries)\n",
    "\n",
    "plt.bar(X, children, color = 'b', width = 0.25)\n",
    "plt.bar(X + 0.25, netWorth, color = 'r', width = 0.25)\n",
    "plt.legend(['Children', 'Net Worth in Billions/100'])\n",
    "plt.xticks([i + 0.25 for i in range(sizeOfEntries)], names)\n",
    "plt.title(\"Bar plot number of children and net worth of Billionaires\")\n",
    "\n",
    "\n",
    "plt.xlabel('Billionaires')\n",
    "plt.ylabel('Wealth and Children')\n",
    "plt.savefig('wealth-and-children.png')\n",
    "plt.show()"
   ]
  },
  {
   "cell_type": "code",
   "execution_count": 9,
   "id": "acfecf84-b073-46a0-8609-f040c2832b03",
   "metadata": {},
   "outputs": [
    {
     "data": {
      "text/html": [
       "<div>\n",
       "<style scoped>\n",
       "    .dataframe tbody tr th:only-of-type {\n",
       "        vertical-align: middle;\n",
       "    }\n",
       "\n",
       "    .dataframe tbody tr th {\n",
       "        vertical-align: top;\n",
       "    }\n",
       "\n",
       "    .dataframe thead th {\n",
       "        text-align: right;\n",
       "    }\n",
       "</style>\n",
       "<table border=\"1\" class=\"dataframe\">\n",
       "  <thead>\n",
       "    <tr style=\"text-align: right;\">\n",
       "      <th></th>\n",
       "      <th>Name</th>\n",
       "      <th>Country</th>\n",
       "      <th>Net Worth</th>\n",
       "    </tr>\n",
       "  </thead>\n",
       "  <tbody>\n",
       "    <tr>\n",
       "      <th>0</th>\n",
       "      <td>Jeff Bezos</td>\n",
       "      <td>United States</td>\n",
       "      <td>177.0</td>\n",
       "    </tr>\n",
       "    <tr>\n",
       "      <th>1</th>\n",
       "      <td>Elon Musk</td>\n",
       "      <td>United States</td>\n",
       "      <td>151.0</td>\n",
       "    </tr>\n",
       "    <tr>\n",
       "      <th>2</th>\n",
       "      <td>Bernard Arnault &amp; family</td>\n",
       "      <td>France</td>\n",
       "      <td>150.0</td>\n",
       "    </tr>\n",
       "    <tr>\n",
       "      <th>3</th>\n",
       "      <td>Bill Gates</td>\n",
       "      <td>United States</td>\n",
       "      <td>124.0</td>\n",
       "    </tr>\n",
       "    <tr>\n",
       "      <th>4</th>\n",
       "      <td>Mark Zuckerberg</td>\n",
       "      <td>United States</td>\n",
       "      <td>97.0</td>\n",
       "    </tr>\n",
       "    <tr>\n",
       "      <th>5</th>\n",
       "      <td>Warren Buffett</td>\n",
       "      <td>United States</td>\n",
       "      <td>96.0</td>\n",
       "    </tr>\n",
       "    <tr>\n",
       "      <th>6</th>\n",
       "      <td>Larry Ellison</td>\n",
       "      <td>United States</td>\n",
       "      <td>93.0</td>\n",
       "    </tr>\n",
       "    <tr>\n",
       "      <th>7</th>\n",
       "      <td>Larry Page</td>\n",
       "      <td>United States</td>\n",
       "      <td>91.5</td>\n",
       "    </tr>\n",
       "    <tr>\n",
       "      <th>8</th>\n",
       "      <td>Sergey Brin</td>\n",
       "      <td>United States</td>\n",
       "      <td>89.0</td>\n",
       "    </tr>\n",
       "    <tr>\n",
       "      <th>9</th>\n",
       "      <td>Mukesh Ambani</td>\n",
       "      <td>India</td>\n",
       "      <td>84.5</td>\n",
       "    </tr>\n",
       "  </tbody>\n",
       "</table>\n",
       "</div>"
      ],
      "text/plain": [
       "                       Name        Country  Net Worth\n",
       "0                Jeff Bezos  United States      177.0\n",
       "1                 Elon Musk  United States      151.0\n",
       "2  Bernard Arnault & family         France      150.0\n",
       "3                Bill Gates  United States      124.0\n",
       "4           Mark Zuckerberg  United States       97.0\n",
       "5            Warren Buffett  United States       96.0\n",
       "6             Larry Ellison  United States       93.0\n",
       "7                Larry Page  United States       91.5\n",
       "8               Sergey Brin  United States       89.0\n",
       "9             Mukesh Ambani          India       84.5"
      ]
     },
     "execution_count": 9,
     "metadata": {},
     "output_type": "execute_result"
    }
   ],
   "source": [
    "filepath = '../data/forbes_billionaires_geo.csv'\n",
    "data = pd.read_csv(filepath)\n",
    "name = data['Name'][:10]\n",
    "country = data['Country'][:10]\n",
    "networth = data['NetWorth'][:10]\n",
    "d = {\"Name\": name, \"Country\": country, \"Net Worth\": networth}\n",
    "df = pd.DataFrame(d)\n",
    "df"
   ]
  },
  {
   "cell_type": "code",
   "execution_count": 10,
   "id": "dd0aaff7-3348-49e5-83d6-83526f2bf057",
   "metadata": {},
   "outputs": [
    {
     "data": {
      "text/plain": [
       "0    United States\n",
       "dtype: object"
      ]
     },
     "execution_count": 10,
     "metadata": {},
     "output_type": "execute_result"
    }
   ],
   "source": [
    "df[\"Country\"][:10].mode()"
   ]
  },
  {
   "cell_type": "code",
   "execution_count": null,
   "id": "5d5fee09-9a06-4c8d-a2bb-49d6577089d4",
   "metadata": {},
   "outputs": [],
   "source": []
  },
  {
   "cell_type": "code",
   "execution_count": 11,
   "id": "fc612995-d419-476d-a4bb-8db567b64f50",
   "metadata": {},
   "outputs": [
    {
     "data": {
      "text/html": [
       "<div>\n",
       "<style scoped>\n",
       "    .dataframe tbody tr th:only-of-type {\n",
       "        vertical-align: middle;\n",
       "    }\n",
       "\n",
       "    .dataframe tbody tr th {\n",
       "        vertical-align: top;\n",
       "    }\n",
       "\n",
       "    .dataframe thead th {\n",
       "        text-align: right;\n",
       "    }\n",
       "</style>\n",
       "<table border=\"1\" class=\"dataframe\">\n",
       "  <thead>\n",
       "    <tr style=\"text-align: right;\">\n",
       "      <th></th>\n",
       "      <th>Name</th>\n",
       "      <th>Children</th>\n",
       "      <th>Country</th>\n",
       "    </tr>\n",
       "  </thead>\n",
       "  <tbody>\n",
       "    <tr>\n",
       "      <th>0</th>\n",
       "      <td>Jeff Bezos</td>\n",
       "      <td>4.0</td>\n",
       "      <td>United States</td>\n",
       "    </tr>\n",
       "    <tr>\n",
       "      <th>1</th>\n",
       "      <td>Elon Musk</td>\n",
       "      <td>7.0</td>\n",
       "      <td>United States</td>\n",
       "    </tr>\n",
       "    <tr>\n",
       "      <th>2</th>\n",
       "      <td>Bernard Arnault &amp; family</td>\n",
       "      <td>5.0</td>\n",
       "      <td>France</td>\n",
       "    </tr>\n",
       "    <tr>\n",
       "      <th>3</th>\n",
       "      <td>Bill Gates</td>\n",
       "      <td>3.0</td>\n",
       "      <td>United States</td>\n",
       "    </tr>\n",
       "    <tr>\n",
       "      <th>4</th>\n",
       "      <td>Mark Zuckerberg</td>\n",
       "      <td>2.0</td>\n",
       "      <td>United States</td>\n",
       "    </tr>\n",
       "    <tr>\n",
       "      <th>5</th>\n",
       "      <td>Warren Buffett</td>\n",
       "      <td>3.0</td>\n",
       "      <td>United States</td>\n",
       "    </tr>\n",
       "    <tr>\n",
       "      <th>6</th>\n",
       "      <td>Larry Ellison</td>\n",
       "      <td>4.0</td>\n",
       "      <td>United States</td>\n",
       "    </tr>\n",
       "    <tr>\n",
       "      <th>7</th>\n",
       "      <td>Larry Page</td>\n",
       "      <td>1.0</td>\n",
       "      <td>United States</td>\n",
       "    </tr>\n",
       "    <tr>\n",
       "      <th>8</th>\n",
       "      <td>Sergey Brin</td>\n",
       "      <td>3.0</td>\n",
       "      <td>United States</td>\n",
       "    </tr>\n",
       "    <tr>\n",
       "      <th>9</th>\n",
       "      <td>Mukesh Ambani</td>\n",
       "      <td>3.0</td>\n",
       "      <td>India</td>\n",
       "    </tr>\n",
       "  </tbody>\n",
       "</table>\n",
       "</div>"
      ],
      "text/plain": [
       "                       Name  Children        Country\n",
       "0                Jeff Bezos       4.0  United States\n",
       "1                 Elon Musk       7.0  United States\n",
       "2  Bernard Arnault & family       5.0         France\n",
       "3                Bill Gates       3.0  United States\n",
       "4           Mark Zuckerberg       2.0  United States\n",
       "5            Warren Buffett       3.0  United States\n",
       "6             Larry Ellison       4.0  United States\n",
       "7                Larry Page       1.0  United States\n",
       "8               Sergey Brin       3.0  United States\n",
       "9             Mukesh Ambani       3.0          India"
      ]
     },
     "execution_count": 11,
     "metadata": {},
     "output_type": "execute_result"
    }
   ],
   "source": [
    "filepath = '../data/forbes_billionaires_geo.csv'\n",
    "data = pd.read_csv(filepath)\n",
    "name = data['Name'][:10]\n",
    "children = data['Children'][:10]\n",
    "country = data['Country'][:10]\n",
    "d = {\"Name\": name, \"Children\": children, \"Country\": country}\n",
    "df = pd.DataFrame(d)\n",
    "df"
   ]
  },
  {
   "cell_type": "code",
   "execution_count": 12,
   "id": "8d2dd3e2-50fa-4140-aa34-5f5260859f30",
   "metadata": {},
   "outputs": [
    {
     "name": "stdout",
     "output_type": "stream",
     "text": [
      "                          Name NetWorth        Country         Source  Rank  \\\n",
      "0                   Jeff Bezos   $177 B  United States         Amazon     1   \n",
      "1                    Elon Musk   $151 B  United States  Tesla, SpaceX     2   \n",
      "2     Bernard Arnault & family   $150 B         France           LVMH     3   \n",
      "3                   Bill Gates   $124 B  United States      Microsoft     4   \n",
      "4              Mark Zuckerberg    $97 B  United States       Facebook     5   \n",
      "...                        ...      ...            ...            ...   ...   \n",
      "2750         Daniel Yong Zhang     $1 B          China     e-commerce  2674   \n",
      "2751             Zhang Yuqiang     $1 B          China     Fiberglass  2674   \n",
      "2752             Zhao Meiguang     $1 B          China    gold mining  2674   \n",
      "2753            Zhong Naixiong     $1 B          China   conglomerate  2674   \n",
      "2754           Zhou Wei family     $1 B          China       Software  2674   \n",
      "\n",
      "       Age          Industry  \n",
      "0     57.0        Technology  \n",
      "1     49.0        Automotive  \n",
      "2     72.0  Fashion & Retail  \n",
      "3     65.0        Technology  \n",
      "4     36.0        Technology  \n",
      "...    ...               ...  \n",
      "2750  49.0        Technology  \n",
      "2751  65.0     Manufacturing  \n",
      "2752  58.0   Metals & Mining  \n",
      "2753  58.0       Diversified  \n",
      "2754  54.0        Technology  \n",
      "\n",
      "[2755 rows x 7 columns]\n"
     ]
    }
   ],
   "source": [
    "filepath = '../data/billionaire.csv'\n",
    "data = pd.read_csv(filepath)\n",
    "print(data)"
   ]
  },
  {
   "cell_type": "code",
   "execution_count": null,
   "id": "e48c2cbc-6035-44de-b549-5e667f816aee",
   "metadata": {},
   "outputs": [],
   "source": []
  },
  {
   "cell_type": "code",
   "execution_count": 13,
   "id": "7f1cb8e4-b362-4b4d-a911-331d56596b40",
   "metadata": {
    "tags": []
   },
   "outputs": [
    {
     "data": {
      "text/html": [
       "<div>\n",
       "<style scoped>\n",
       "    .dataframe tbody tr th:only-of-type {\n",
       "        vertical-align: middle;\n",
       "    }\n",
       "\n",
       "    .dataframe tbody tr th {\n",
       "        vertical-align: top;\n",
       "    }\n",
       "\n",
       "    .dataframe thead th {\n",
       "        text-align: right;\n",
       "    }\n",
       "</style>\n",
       "<table border=\"1\" class=\"dataframe\">\n",
       "  <thead>\n",
       "    <tr style=\"text-align: right;\">\n",
       "      <th></th>\n",
       "      <th>Name</th>\n",
       "      <th>Country</th>\n",
       "      <th>Industry</th>\n",
       "    </tr>\n",
       "  </thead>\n",
       "  <tbody>\n",
       "    <tr>\n",
       "      <th>0</th>\n",
       "      <td>Jeff Bezos</td>\n",
       "      <td>United States</td>\n",
       "      <td>Technology</td>\n",
       "    </tr>\n",
       "    <tr>\n",
       "      <th>1</th>\n",
       "      <td>Elon Musk</td>\n",
       "      <td>United States</td>\n",
       "      <td>Automotive</td>\n",
       "    </tr>\n",
       "    <tr>\n",
       "      <th>2</th>\n",
       "      <td>Bernard Arnault &amp; family</td>\n",
       "      <td>France</td>\n",
       "      <td>Fashion &amp; Retail</td>\n",
       "    </tr>\n",
       "    <tr>\n",
       "      <th>3</th>\n",
       "      <td>Bill Gates</td>\n",
       "      <td>United States</td>\n",
       "      <td>Technology</td>\n",
       "    </tr>\n",
       "    <tr>\n",
       "      <th>4</th>\n",
       "      <td>Mark Zuckerberg</td>\n",
       "      <td>United States</td>\n",
       "      <td>Technology</td>\n",
       "    </tr>\n",
       "    <tr>\n",
       "      <th>5</th>\n",
       "      <td>Warren Buffett</td>\n",
       "      <td>United States</td>\n",
       "      <td>Finance &amp; Investments</td>\n",
       "    </tr>\n",
       "    <tr>\n",
       "      <th>6</th>\n",
       "      <td>Larry Ellison</td>\n",
       "      <td>United States</td>\n",
       "      <td>Technology</td>\n",
       "    </tr>\n",
       "    <tr>\n",
       "      <th>7</th>\n",
       "      <td>Larry Page</td>\n",
       "      <td>United States</td>\n",
       "      <td>Technology</td>\n",
       "    </tr>\n",
       "    <tr>\n",
       "      <th>8</th>\n",
       "      <td>Sergey Brin</td>\n",
       "      <td>United States</td>\n",
       "      <td>Technology</td>\n",
       "    </tr>\n",
       "    <tr>\n",
       "      <th>9</th>\n",
       "      <td>Mukesh Ambani</td>\n",
       "      <td>India</td>\n",
       "      <td>Diversified</td>\n",
       "    </tr>\n",
       "  </tbody>\n",
       "</table>\n",
       "</div>"
      ],
      "text/plain": [
       "                       Name        Country               Industry\n",
       "0                Jeff Bezos  United States             Technology\n",
       "1                 Elon Musk  United States             Automotive\n",
       "2  Bernard Arnault & family         France       Fashion & Retail\n",
       "3                Bill Gates  United States             Technology\n",
       "4           Mark Zuckerberg  United States             Technology\n",
       "5            Warren Buffett  United States  Finance & Investments\n",
       "6             Larry Ellison  United States             Technology\n",
       "7                Larry Page  United States             Technology\n",
       "8               Sergey Brin  United States             Technology\n",
       "9             Mukesh Ambani          India            Diversified"
      ]
     },
     "execution_count": 13,
     "metadata": {},
     "output_type": "execute_result"
    }
   ],
   "source": [
    "filepath = '../data/billionaire.csv'\n",
    "data = pd.read_csv(filepath)\n",
    "name = data['Name'][:10]\n",
    "country = data['Country'][:10]\n",
    "industry = data['Industry'][:10]\n",
    "d = {\"Name\": name, \"Country\": country, \"Industry\": industry}\n",
    "df = pd.DataFrame(d)\n",
    "df"
   ]
  },
  {
   "cell_type": "code",
   "execution_count": 14,
   "id": "dbdc58cc-ea1a-426b-99bb-9fab346889a1",
   "metadata": {},
   "outputs": [
    {
     "data": {
      "text/plain": [
       "0    Technology\n",
       "dtype: object"
      ]
     },
     "execution_count": 14,
     "metadata": {},
     "output_type": "execute_result"
    }
   ],
   "source": [
    "filepath = '../data/billionaire.csv'\n",
    "data = pd.read_csv(filepath)\n",
    "name = data['Name'][:10]\n",
    "country = data['Country'][:10]\n",
    "industry = data['Industry'][:10]\n",
    "d = {\"Name\": name, \"Country\": country, \"Industry\": industry}\n",
    "df = pd.DataFrame(d)\n",
    "df['Industry'][:10].mode()"
   ]
  },
  {
   "cell_type": "code",
   "execution_count": 1,
   "id": "60f53f1b-bdf3-4846-a085-cda59656ecc0",
   "metadata": {},
   "outputs": [
    {
     "data": {
      "image/png": "[encoded data removed]",
      "text/plain": [
       "<Figure size 432x288 with 1 Axes>"
      ]
     },
     "metadata": {},
     "output_type": "display_data"
    }
   ],
   "source": [
    "import matplotlib.pyplot as plt\n",
    "name = ['Technology', 'Diversified', 'Fashion & Retail', 'Finanace & Investment', 'Automotive']\n",
    "people = [6, 1, 1, 1, 1]\n",
    "plt.pie(people, labels=name, autopct='%0.f%%', shadow=True, startangle=90);\n",
    "plt.title(\"Most Popular Industries for Billionaires-Top Ten\");\n",
    "plt.legend(['Technology', 'Diversified','Fashion & Retail','Finance & Investment','Automotive'],bbox_to_anchor=(1.5,1.03),loc=\"upper left\");\n",
    "plt.axis('equal');\n",
    "plt.savefig('pie1.pdf', bbox_inches='tight')"
   ]
  },
  {
   "cell_type": "code",
   "execution_count": 7,
   "id": "7d86ab19-f5bf-480a-bdc6-3afdcf1e2635",
   "metadata": {},
   "outputs": [],
   "source": [
    "import pandas as pd"
   ]
  },
  {
   "cell_type": "code",
   "execution_count": 8,
   "id": "082b2477-3972-40f6-8383-9a00d4103ab3",
   "metadata": {},
   "outputs": [
    {
     "name": "stdout",
     "output_type": "stream",
     "text": [
      "                          Name NetWorth        Country         Source  Rank  \\\n",
      "0                   Jeff Bezos   $177 B  United States         Amazon     1   \n",
      "1                    Elon Musk   $151 B  United States  Tesla, SpaceX     2   \n",
      "2     Bernard Arnault & family   $150 B         France           LVMH     3   \n",
      "3                   Bill Gates   $124 B  United States      Microsoft     4   \n",
      "4              Mark Zuckerberg    $97 B  United States       Facebook     5   \n",
      "...                        ...      ...            ...            ...   ...   \n",
      "2750         Daniel Yong Zhang     $1 B          China     e-commerce  2674   \n",
      "2751             Zhang Yuqiang     $1 B          China     Fiberglass  2674   \n",
      "2752             Zhao Meiguang     $1 B          China    gold mining  2674   \n",
      "2753            Zhong Naixiong     $1 B          China   conglomerate  2674   \n",
      "2754           Zhou Wei family     $1 B          China       Software  2674   \n",
      "\n",
      "       Age          Industry  \n",
      "0     57.0        Technology  \n",
      "1     49.0        Automotive  \n",
      "2     72.0  Fashion & Retail  \n",
      "3     65.0        Technology  \n",
      "4     36.0        Technology  \n",
      "...    ...               ...  \n",
      "2750  49.0        Technology  \n",
      "2751  65.0     Manufacturing  \n",
      "2752  58.0   Metals & Mining  \n",
      "2753  58.0       Diversified  \n",
      "2754  54.0        Technology  \n",
      "\n",
      "[2755 rows x 7 columns]\n"
     ]
    }
   ],
   "source": [
    "filepath = '../data/billionaire.csv'\n",
    "data = pd.read_csv(filepath)\n",
    "print(data)"
   ]
  },
  {
   "cell_type": "code",
   "execution_count": 24,
   "id": "00f30abe-d21a-4e69-b1a4-b9d6f4fc9916",
   "metadata": {},
   "outputs": [
    {
     "data": {
      "text/plain": [
       "0    Technology\n",
       "dtype: object"
      ]
     },
     "execution_count": 24,
     "metadata": {},
     "output_type": "execute_result"
    }
   ],
   "source": [
    "filepath = '../data/billionaire.csv'\n",
    "data = pd.read_csv(filepath)\n",
    "name = data['Name'][:100]\n",
    "country = data['Country'][:100]\n",
    "industry = data['Industry'][:100]\n",
    "d = {\"Name\": name, \"Country\": country, \"Industry\": industry}\n",
    "df = pd.DataFrame(d)\n",
    "df['Industry'][:100].mode()"
   ]
  },
  {
   "cell_type": "code",
   "execution_count": 25,
   "id": "58445ce4-55d7-4409-a913-c88708c7baa9",
   "metadata": {},
   "outputs": [
    {
     "data": {
      "text/plain": [
       "0    Finance & Investments\n",
       "dtype: object"
      ]
     },
     "execution_count": 25,
     "metadata": {},
     "output_type": "execute_result"
    }
   ],
   "source": [
    "filepath = '../data/billionaire.csv'\n",
    "data = pd.read_csv(filepath)\n",
    "name = data['Name'][:1000]\n",
    "country = data['Country'][:1000]\n",
    "industry = data['Industry'][:1000]\n",
    "d = {\"Name\": name, \"Country\": country, \"Industry\": industry}\n",
    "df = pd.DataFrame(d)\n",
    "df['Industry'][:1000].mode()"
   ]
  },
  {
   "cell_type": "code",
   "execution_count": 26,
   "id": "eff6a4c8-7190-4e15-8765-ae43d27f7f47",
   "metadata": {},
   "outputs": [
    {
     "data": {
      "text/plain": [
       "0    Finance & Investments\n",
       "dtype: object"
      ]
     },
     "execution_count": 26,
     "metadata": {},
     "output_type": "execute_result"
    }
   ],
   "source": [
    "filepath = '../data/billionaire.csv'\n",
    "data = pd.read_csv(filepath)\n",
    "name = data['Name']\n",
    "country = data['Country']\n",
    "industry = data['Industry']\n",
    "d = {\"Name\": name, \"Country\": country, \"Industry\": industry}\n",
    "df = pd.DataFrame(d)\n",
    "df['Industry'].mode()"
   ]
  },
  {
   "cell_type": "code",
   "execution_count": 28,
   "id": "223cb753-c0d9-4461-b61c-86142ddb6476",
   "metadata": {},
   "outputs": [
    {
     "data": {
      "text/plain": [
       "Finance & Investments         371\n",
       "Technology                    365\n",
       "Manufacturing                 331\n",
       "Fashion & Retail              273\n",
       "Healthcare                    221\n",
       "Food & Beverage               219\n",
       "Real Estate                   215\n",
       "Diversified                   188\n",
       "Energy                        100\n",
       "Media & Entertainment          95\n",
       "Service                        75\n",
       "Metals & Mining                74\n",
       "Automotive                     68\n",
       "Construction & Engineering     44\n",
       "Logistics                      35\n",
       "Telecom                        32\n",
       "Gambling & Casinos             25\n",
       "Sports                         24\n",
       "Name: Industry, dtype: int64"
      ]
     },
     "execution_count": 28,
     "metadata": {},
     "output_type": "execute_result"
    }
   ],
   "source": [
    "df['Industry'].value_counts()"
   ]
  },
  {
   "cell_type": "code",
   "execution_count": 2,
   "id": "b293f327-9571-4d4b-b580-611d6a0e4e48",
   "metadata": {},
   "outputs": [
    {
     "data": {
      "image/png": "[encoded data removed]",
      "text/plain": [
       "<Figure size 432x288 with 1 Axes>"
      ]
     },
     "metadata": {},
     "output_type": "display_data"
    }
   ],
   "source": [
    "import matplotlib.pyplot as plt\n",
    "name = ['Finanace & Investment', 'Technology', 'Manufacturing', 'Fashion & Retail', 'Healthcare']\n",
    "people = [371, 365, 331, 273, 221]\n",
    "plt.pie(people, labels=name, autopct='%0.f%%', shadow=True, startangle=90);\n",
    "plt.title(\"Most Popular Industries for Billionaires\");\n",
    "plt.legend(['Finance & Investment', 'Technology','Manufacturing','Fashion & Retail','Healthcare'],bbox_to_anchor=(1.2,1.03),loc=\"upper left\");\n",
    "plt.axis('equal');\n",
    "plt.savefig('pie2.pdf', bbox_inches='tight')"
   ]
  },
  {
   "cell_type": "code",
   "execution_count": null,
   "id": "902c1db9-318f-4061-9b5b-5f3f8f5d9326",
   "metadata": {},
   "outputs": [],
   "source": []
  }
 ],
 "metadata": {
  "kernelspec": {
   "display_name": "Python 3",
   "language": "python",
   "name": "python3"
  },
  "language_info": {
   "codemirror_mode": {
    "name": "ipython",
    "version": 3
   },
   "file_extension": ".py",
   "mimetype": "text/x-python",
   "name": "python",
   "nbconvert_exporter": "python",
   "pygments_lexer": "ipython3",
   "version": "3.9.4"
  }
 },
 "nbformat": 4,
 "nbformat_minor": 5
}

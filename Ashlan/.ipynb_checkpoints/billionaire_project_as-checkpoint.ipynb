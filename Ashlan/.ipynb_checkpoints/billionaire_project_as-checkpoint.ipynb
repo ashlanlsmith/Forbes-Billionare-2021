{
 "cells": [
  {
   "cell_type": "code",
   "execution_count": 1,
   "metadata": {},
   "outputs": [],
   "source": [
    "import pandas as pd"
   ]
  },
  {
   "cell_type": "code",
   "execution_count": 2,
   "metadata": {},
   "outputs": [],
   "source": [
    "import numpy as np "
   ]
  },
  {
   "cell_type": "code",
   "execution_count": 3,
   "metadata": {},
   "outputs": [],
   "source": [
    "import matplotlib.pyplot as plt"
   ]
  },
  {
   "cell_type": "code",
   "execution_count": 4,
   "metadata": {},
   "outputs": [],
   "source": [
    "###Adding the dataset to the notebook\n",
    "forbes = pd.read_csv(\"../data/forbes_billionaires_geo.csv\")"
   ]
  },
  {
   "cell_type": "code",
   "execution_count": 5,
   "metadata": {},
   "outputs": [
    {
     "data": {
      "text/html": [
       "<div>\n",
       "<style scoped>\n",
       "    .dataframe tbody tr th:only-of-type {\n",
       "        vertical-align: middle;\n",
       "    }\n",
       "\n",
       "    .dataframe tbody tr th {\n",
       "        vertical-align: top;\n",
       "    }\n",
       "\n",
       "    .dataframe thead th {\n",
       "        text-align: right;\n",
       "    }\n",
       "</style>\n",
       "<table border=\"1\" class=\"dataframe\">\n",
       "  <thead>\n",
       "    <tr style=\"text-align: right;\">\n",
       "      <th></th>\n",
       "      <th>Name</th>\n",
       "      <th>NetWorth</th>\n",
       "      <th>Country</th>\n",
       "      <th>Source</th>\n",
       "      <th>Rank</th>\n",
       "      <th>Age</th>\n",
       "      <th>Residence</th>\n",
       "      <th>Citizenship</th>\n",
       "      <th>Status</th>\n",
       "      <th>Children</th>\n",
       "      <th>Education</th>\n",
       "      <th>Self_made</th>\n",
       "      <th>geometry</th>\n",
       "    </tr>\n",
       "  </thead>\n",
       "  <tbody>\n",
       "    <tr>\n",
       "      <th>0</th>\n",
       "      <td>Jeff Bezos</td>\n",
       "      <td>177.0</td>\n",
       "      <td>United States</td>\n",
       "      <td>Amazon</td>\n",
       "      <td>1</td>\n",
       "      <td>57.0</td>\n",
       "      <td>Seattle, Washington</td>\n",
       "      <td>United States</td>\n",
       "      <td>In Relationship</td>\n",
       "      <td>4.0</td>\n",
       "      <td>Bachelor of Arts/Science, Princeton University</td>\n",
       "      <td>True</td>\n",
       "      <td>POINT (-122.3300624 47.6038321)</td>\n",
       "    </tr>\n",
       "    <tr>\n",
       "      <th>1</th>\n",
       "      <td>Elon Musk</td>\n",
       "      <td>151.0</td>\n",
       "      <td>United States</td>\n",
       "      <td>Tesla, SpaceX</td>\n",
       "      <td>2</td>\n",
       "      <td>49.0</td>\n",
       "      <td>Austin, Texas</td>\n",
       "      <td>United States</td>\n",
       "      <td>In Relationship</td>\n",
       "      <td>7.0</td>\n",
       "      <td>Bachelor of Arts/Science, University of Pennsy...</td>\n",
       "      <td>True</td>\n",
       "      <td>POINT (-97.74369950000001 30.2711286)</td>\n",
       "    </tr>\n",
       "    <tr>\n",
       "      <th>2</th>\n",
       "      <td>Bernard Arnault &amp; family</td>\n",
       "      <td>150.0</td>\n",
       "      <td>France</td>\n",
       "      <td>LVMH</td>\n",
       "      <td>3</td>\n",
       "      <td>72.0</td>\n",
       "      <td>Paris, France</td>\n",
       "      <td>France</td>\n",
       "      <td>Married</td>\n",
       "      <td>5.0</td>\n",
       "      <td>Bachelor of Arts/Science, Ecole Polytechnique ...</td>\n",
       "      <td>False</td>\n",
       "      <td>POINT (2.3514616 48.8566969)</td>\n",
       "    </tr>\n",
       "    <tr>\n",
       "      <th>3</th>\n",
       "      <td>Bill Gates</td>\n",
       "      <td>124.0</td>\n",
       "      <td>United States</td>\n",
       "      <td>Microsoft</td>\n",
       "      <td>4</td>\n",
       "      <td>65.0</td>\n",
       "      <td>Medina, Washington</td>\n",
       "      <td>United States</td>\n",
       "      <td>Divorced</td>\n",
       "      <td>3.0</td>\n",
       "      <td>Drop Out, Harvard University</td>\n",
       "      <td>True</td>\n",
       "      <td>POINT (-122.2264453 47.620548)</td>\n",
       "    </tr>\n",
       "    <tr>\n",
       "      <th>4</th>\n",
       "      <td>Mark Zuckerberg</td>\n",
       "      <td>97.0</td>\n",
       "      <td>United States</td>\n",
       "      <td>Facebook</td>\n",
       "      <td>5</td>\n",
       "      <td>36.0</td>\n",
       "      <td>Palo Alto, California</td>\n",
       "      <td>United States</td>\n",
       "      <td>Married</td>\n",
       "      <td>2.0</td>\n",
       "      <td>Drop Out, Harvard University</td>\n",
       "      <td>True</td>\n",
       "      <td>POINT (-122.1598465 37.4443293)</td>\n",
       "    </tr>\n",
       "  </tbody>\n",
       "</table>\n",
       "</div>"
      ],
      "text/plain": [
       "                       Name  NetWorth        Country         Source  Rank  \\\n",
       "0                Jeff Bezos     177.0  United States         Amazon     1   \n",
       "1                 Elon Musk     151.0  United States  Tesla, SpaceX     2   \n",
       "2  Bernard Arnault & family     150.0         France           LVMH     3   \n",
       "3                Bill Gates     124.0  United States      Microsoft     4   \n",
       "4           Mark Zuckerberg      97.0  United States       Facebook     5   \n",
       "\n",
       "    Age              Residence    Citizenship           Status  Children  \\\n",
       "0  57.0    Seattle, Washington  United States  In Relationship       4.0   \n",
       "1  49.0          Austin, Texas  United States  In Relationship       7.0   \n",
       "2  72.0          Paris, France         France          Married       5.0   \n",
       "3  65.0     Medina, Washington  United States         Divorced       3.0   \n",
       "4  36.0  Palo Alto, California  United States          Married       2.0   \n",
       "\n",
       "                                           Education Self_made  \\\n",
       "0     Bachelor of Arts/Science, Princeton University      True   \n",
       "1  Bachelor of Arts/Science, University of Pennsy...      True   \n",
       "2  Bachelor of Arts/Science, Ecole Polytechnique ...     False   \n",
       "3                       Drop Out, Harvard University      True   \n",
       "4                       Drop Out, Harvard University      True   \n",
       "\n",
       "                                geometry  \n",
       "0        POINT (-122.3300624 47.6038321)  \n",
       "1  POINT (-97.74369950000001 30.2711286)  \n",
       "2           POINT (2.3514616 48.8566969)  \n",
       "3         POINT (-122.2264453 47.620548)  \n",
       "4        POINT (-122.1598465 37.4443293)  "
      ]
     },
     "execution_count": 5,
     "metadata": {},
     "output_type": "execute_result"
    }
   ],
   "source": [
    "forbes.head(5)"
   ]
  },
  {
   "cell_type": "code",
   "execution_count": 6,
   "metadata": {},
   "outputs": [
    {
     "data": {
      "text/plain": [
       "Name              0\n",
       "NetWorth          0\n",
       "Country           0\n",
       "Source            0\n",
       "Rank              0\n",
       "Age             125\n",
       "Residence        40\n",
       "Citizenship      16\n",
       "Status          665\n",
       "Children       1203\n",
       "Education      1346\n",
       "Self_made        18\n",
       "geometry          0\n",
       "dtype: int64"
      ]
     },
     "execution_count": 6,
     "metadata": {},
     "output_type": "execute_result"
    }
   ],
   "source": [
    "###Checking for missing values in the data\n",
    "forbes.isnull().sum()"
   ]
  },
  {
   "cell_type": "code",
   "execution_count": 7,
   "metadata": {},
   "outputs": [],
   "source": [
    "###top 10 Billionaires \n",
    "top_10 = forbes[:10]"
   ]
  },
  {
   "cell_type": "code",
   "execution_count": 8,
   "metadata": {},
   "outputs": [
    {
     "data": {
      "text/html": [
       "<div>\n",
       "<style scoped>\n",
       "    .dataframe tbody tr th:only-of-type {\n",
       "        vertical-align: middle;\n",
       "    }\n",
       "\n",
       "    .dataframe tbody tr th {\n",
       "        vertical-align: top;\n",
       "    }\n",
       "\n",
       "    .dataframe thead th {\n",
       "        text-align: right;\n",
       "    }\n",
       "</style>\n",
       "<table border=\"1\" class=\"dataframe\">\n",
       "  <thead>\n",
       "    <tr style=\"text-align: right;\">\n",
       "      <th></th>\n",
       "      <th>Name</th>\n",
       "      <th>NetWorth</th>\n",
       "      <th>Country</th>\n",
       "      <th>Source</th>\n",
       "      <th>Rank</th>\n",
       "      <th>Age</th>\n",
       "      <th>Residence</th>\n",
       "      <th>Citizenship</th>\n",
       "      <th>Status</th>\n",
       "      <th>Children</th>\n",
       "      <th>Education</th>\n",
       "      <th>Self_made</th>\n",
       "      <th>geometry</th>\n",
       "    </tr>\n",
       "  </thead>\n",
       "  <tbody>\n",
       "    <tr>\n",
       "      <th>5</th>\n",
       "      <td>Warren Buffett</td>\n",
       "      <td>96.0</td>\n",
       "      <td>United States</td>\n",
       "      <td>Berkshire Hathaway</td>\n",
       "      <td>6</td>\n",
       "      <td>90.0</td>\n",
       "      <td>Omaha, Nebraska</td>\n",
       "      <td>United States</td>\n",
       "      <td>Widowed, Remarried</td>\n",
       "      <td>3.0</td>\n",
       "      <td>Master of Science, Columbia University; Bachel...</td>\n",
       "      <td>True</td>\n",
       "      <td>POINT (-95.9383758 41.2587459)</td>\n",
       "    </tr>\n",
       "    <tr>\n",
       "      <th>2</th>\n",
       "      <td>Bernard Arnault &amp; family</td>\n",
       "      <td>150.0</td>\n",
       "      <td>France</td>\n",
       "      <td>LVMH</td>\n",
       "      <td>3</td>\n",
       "      <td>72.0</td>\n",
       "      <td>Paris, France</td>\n",
       "      <td>France</td>\n",
       "      <td>Married</td>\n",
       "      <td>5.0</td>\n",
       "      <td>Bachelor of Arts/Science, Ecole Polytechnique ...</td>\n",
       "      <td>False</td>\n",
       "      <td>POINT (2.3514616 48.8566969)</td>\n",
       "    </tr>\n",
       "    <tr>\n",
       "      <th>4</th>\n",
       "      <td>Mark Zuckerberg</td>\n",
       "      <td>97.0</td>\n",
       "      <td>United States</td>\n",
       "      <td>Facebook</td>\n",
       "      <td>5</td>\n",
       "      <td>36.0</td>\n",
       "      <td>Palo Alto, California</td>\n",
       "      <td>United States</td>\n",
       "      <td>Married</td>\n",
       "      <td>2.0</td>\n",
       "      <td>Drop Out, Harvard University</td>\n",
       "      <td>True</td>\n",
       "      <td>POINT (-122.1598465 37.4443293)</td>\n",
       "    </tr>\n",
       "    <tr>\n",
       "      <th>7</th>\n",
       "      <td>Larry Page</td>\n",
       "      <td>91.5</td>\n",
       "      <td>United States</td>\n",
       "      <td>Google</td>\n",
       "      <td>8</td>\n",
       "      <td>48.0</td>\n",
       "      <td>Palo Alto, California</td>\n",
       "      <td>United States</td>\n",
       "      <td>Married</td>\n",
       "      <td>1.0</td>\n",
       "      <td>Master of Science, Stanford University; Bachel...</td>\n",
       "      <td>True</td>\n",
       "      <td>POINT (-122.1598465 37.4443293)</td>\n",
       "    </tr>\n",
       "    <tr>\n",
       "      <th>8</th>\n",
       "      <td>Sergey Brin</td>\n",
       "      <td>89.0</td>\n",
       "      <td>United States</td>\n",
       "      <td>Google</td>\n",
       "      <td>9</td>\n",
       "      <td>47.0</td>\n",
       "      <td>Los Altos, California</td>\n",
       "      <td>United States</td>\n",
       "      <td>Married</td>\n",
       "      <td>3.0</td>\n",
       "      <td>Master of Science, Stanford University; Bachel...</td>\n",
       "      <td>True</td>\n",
       "      <td>POINT (-122.116578 37.3790629)</td>\n",
       "    </tr>\n",
       "    <tr>\n",
       "      <th>9</th>\n",
       "      <td>Mukesh Ambani</td>\n",
       "      <td>84.5</td>\n",
       "      <td>India</td>\n",
       "      <td>diversified</td>\n",
       "      <td>10</td>\n",
       "      <td>64.0</td>\n",
       "      <td>Mumbai, India</td>\n",
       "      <td>India</td>\n",
       "      <td>Married</td>\n",
       "      <td>3.0</td>\n",
       "      <td>Drop Out, Stanford University; Bachelor of Sci...</td>\n",
       "      <td>False</td>\n",
       "      <td>POINT (72.8773928 19.0759899)</td>\n",
       "    </tr>\n",
       "    <tr>\n",
       "      <th>0</th>\n",
       "      <td>Jeff Bezos</td>\n",
       "      <td>177.0</td>\n",
       "      <td>United States</td>\n",
       "      <td>Amazon</td>\n",
       "      <td>1</td>\n",
       "      <td>57.0</td>\n",
       "      <td>Seattle, Washington</td>\n",
       "      <td>United States</td>\n",
       "      <td>In Relationship</td>\n",
       "      <td>4.0</td>\n",
       "      <td>Bachelor of Arts/Science, Princeton University</td>\n",
       "      <td>True</td>\n",
       "      <td>POINT (-122.3300624 47.6038321)</td>\n",
       "    </tr>\n",
       "    <tr>\n",
       "      <th>1</th>\n",
       "      <td>Elon Musk</td>\n",
       "      <td>151.0</td>\n",
       "      <td>United States</td>\n",
       "      <td>Tesla, SpaceX</td>\n",
       "      <td>2</td>\n",
       "      <td>49.0</td>\n",
       "      <td>Austin, Texas</td>\n",
       "      <td>United States</td>\n",
       "      <td>In Relationship</td>\n",
       "      <td>7.0</td>\n",
       "      <td>Bachelor of Arts/Science, University of Pennsy...</td>\n",
       "      <td>True</td>\n",
       "      <td>POINT (-97.74369950000001 30.2711286)</td>\n",
       "    </tr>\n",
       "    <tr>\n",
       "      <th>6</th>\n",
       "      <td>Larry Ellison</td>\n",
       "      <td>93.0</td>\n",
       "      <td>United States</td>\n",
       "      <td>software</td>\n",
       "      <td>7</td>\n",
       "      <td>76.0</td>\n",
       "      <td>Lanai, Hawaii</td>\n",
       "      <td>United States</td>\n",
       "      <td>In Relationship</td>\n",
       "      <td>4.0</td>\n",
       "      <td>Drop Out, University of Chicago; Drop Out, Uni...</td>\n",
       "      <td>True</td>\n",
       "      <td>POINT (-156.9029493 20.8305441)</td>\n",
       "    </tr>\n",
       "    <tr>\n",
       "      <th>3</th>\n",
       "      <td>Bill Gates</td>\n",
       "      <td>124.0</td>\n",
       "      <td>United States</td>\n",
       "      <td>Microsoft</td>\n",
       "      <td>4</td>\n",
       "      <td>65.0</td>\n",
       "      <td>Medina, Washington</td>\n",
       "      <td>United States</td>\n",
       "      <td>Divorced</td>\n",
       "      <td>3.0</td>\n",
       "      <td>Drop Out, Harvard University</td>\n",
       "      <td>True</td>\n",
       "      <td>POINT (-122.2264453 47.620548)</td>\n",
       "    </tr>\n",
       "  </tbody>\n",
       "</table>\n",
       "</div>"
      ],
      "text/plain": [
       "                       Name  NetWorth        Country              Source  \\\n",
       "5            Warren Buffett      96.0  United States  Berkshire Hathaway   \n",
       "2  Bernard Arnault & family     150.0         France                LVMH   \n",
       "4           Mark Zuckerberg      97.0  United States            Facebook   \n",
       "7                Larry Page      91.5  United States              Google   \n",
       "8               Sergey Brin      89.0  United States              Google   \n",
       "9             Mukesh Ambani      84.5          India         diversified   \n",
       "0                Jeff Bezos     177.0  United States              Amazon   \n",
       "1                 Elon Musk     151.0  United States       Tesla, SpaceX   \n",
       "6             Larry Ellison      93.0  United States            software   \n",
       "3                Bill Gates     124.0  United States           Microsoft   \n",
       "\n",
       "   Rank   Age              Residence    Citizenship              Status  \\\n",
       "5     6  90.0        Omaha, Nebraska  United States  Widowed, Remarried   \n",
       "2     3  72.0          Paris, France         France             Married   \n",
       "4     5  36.0  Palo Alto, California  United States             Married   \n",
       "7     8  48.0  Palo Alto, California  United States             Married   \n",
       "8     9  47.0  Los Altos, California  United States             Married   \n",
       "9    10  64.0          Mumbai, India          India             Married   \n",
       "0     1  57.0    Seattle, Washington  United States     In Relationship   \n",
       "1     2  49.0          Austin, Texas  United States     In Relationship   \n",
       "6     7  76.0          Lanai, Hawaii  United States     In Relationship   \n",
       "3     4  65.0     Medina, Washington  United States            Divorced   \n",
       "\n",
       "   Children                                          Education Self_made  \\\n",
       "5       3.0  Master of Science, Columbia University; Bachel...      True   \n",
       "2       5.0  Bachelor of Arts/Science, Ecole Polytechnique ...     False   \n",
       "4       2.0                       Drop Out, Harvard University      True   \n",
       "7       1.0  Master of Science, Stanford University; Bachel...      True   \n",
       "8       3.0  Master of Science, Stanford University; Bachel...      True   \n",
       "9       3.0  Drop Out, Stanford University; Bachelor of Sci...     False   \n",
       "0       4.0     Bachelor of Arts/Science, Princeton University      True   \n",
       "1       7.0  Bachelor of Arts/Science, University of Pennsy...      True   \n",
       "6       4.0  Drop Out, University of Chicago; Drop Out, Uni...      True   \n",
       "3       3.0                       Drop Out, Harvard University      True   \n",
       "\n",
       "                                geometry  \n",
       "5         POINT (-95.9383758 41.2587459)  \n",
       "2           POINT (2.3514616 48.8566969)  \n",
       "4        POINT (-122.1598465 37.4443293)  \n",
       "7        POINT (-122.1598465 37.4443293)  \n",
       "8         POINT (-122.116578 37.3790629)  \n",
       "9          POINT (72.8773928 19.0759899)  \n",
       "0        POINT (-122.3300624 47.6038321)  \n",
       "1  POINT (-97.74369950000001 30.2711286)  \n",
       "6        POINT (-156.9029493 20.8305441)  \n",
       "3         POINT (-122.2264453 47.620548)  "
      ]
     },
     "execution_count": 8,
     "metadata": {},
     "output_type": "execute_result"
    }
   ],
   "source": [
    "### top 10 relationship status\n",
    "top_10.sort_values(by='Status',ascending=False)"
   ]
  },
  {
   "cell_type": "code",
   "execution_count": 9,
   "metadata": {},
   "outputs": [],
   "source": [
    "###percentage of each status \n",
    "count10 = top_10['Status'].value_counts(normalize=True)\n"
   ]
  },
  {
   "cell_type": "code",
   "execution_count": 10,
   "metadata": {},
   "outputs": [
    {
     "data": {
      "text/plain": [
       "Married               0.5\n",
       "In Relationship       0.3\n",
       "Divorced              0.1\n",
       "Widowed, Remarried    0.1\n",
       "Name: Status, dtype: float64"
      ]
     },
     "execution_count": 10,
     "metadata": {},
     "output_type": "execute_result"
    }
   ],
   "source": [
    "count10"
   ]
  },
  {
   "cell_type": "code",
   "execution_count": 11,
   "metadata": {},
   "outputs": [
    {
     "data": {
      "image/png": "[encoded data removed]",
      "text/plain": [
       "<Figure size 720x504 with 1 Axes>"
      ]
     },
     "metadata": {},
     "output_type": "display_data"
    }
   ],
   "source": [
    "status10 = ['Married', 'In Relationship', 'Widowed, Remarried', 'Divorced']\n",
    "data = [0.5, 0.3, 0.1, 0.1]\n",
    "circle = plt.figure(figsize =(10, 7))\n",
    "plt.pie(data, labels = status10)\n",
    "plt.show()"
   ]
  },
  {
   "cell_type": "code",
   "execution_count": 12,
   "metadata": {},
   "outputs": [
    {
     "data": {
      "text/plain": [
       "Married               0.829665\n",
       "Divorced              0.068900\n",
       "Widowed               0.045455\n",
       "Single                0.035407\n",
       "In Relationship       0.010048\n",
       "Separated             0.004785\n",
       "Widowed, Remarried    0.003828\n",
       "Engaged               0.001914\n",
       "Name: Status, dtype: float64"
      ]
     },
     "execution_count": 12,
     "metadata": {},
     "output_type": "execute_result"
    }
   ],
   "source": [
    "###Checking all Bilionaire's Status\n",
    "countall = forbes['Status'].value_counts(normalize=True)\n",
    "countall"
   ]
  },
  {
   "cell_type": "code",
   "execution_count": 13,
   "metadata": {},
   "outputs": [
    {
     "data": {
      "image/png": "[encoded data removed]",
      "text/plain": [
       "<Figure size 720x576 with 1 Axes>"
      ]
     },
     "metadata": {},
     "output_type": "display_data"
    }
   ],
   "source": [
    "status_all = ['Married', 'Divorced', 'Widowed', 'Single', 'In Relationship', 'Seperated', 'Widowed, Remarried', 'Engaged']\n",
    "data1 = [0.829665, 0.068900, 0.045455, 0.035407, 0.010048, 0.004785, 0.003828, 0.001914]\n",
    "circle1 = plt.figure(figsize =(10, 8))\n",
    "plt.pie(data1, labels = status_all)\n",
    "plt.show()"
   ]
  },
  {
   "cell_type": "code",
   "execution_count": 14,
   "metadata": {},
   "outputs": [
    {
     "data": {
      "text/html": [
       "<div>\n",
       "<style scoped>\n",
       "    .dataframe tbody tr th:only-of-type {\n",
       "        vertical-align: middle;\n",
       "    }\n",
       "\n",
       "    .dataframe tbody tr th {\n",
       "        vertical-align: top;\n",
       "    }\n",
       "\n",
       "    .dataframe thead th {\n",
       "        text-align: right;\n",
       "    }\n",
       "</style>\n",
       "<table border=\"1\" class=\"dataframe\">\n",
       "  <thead>\n",
       "    <tr style=\"text-align: right;\">\n",
       "      <th></th>\n",
       "      <th>Name</th>\n",
       "      <th>NetWorth</th>\n",
       "      <th>Country</th>\n",
       "      <th>Source</th>\n",
       "      <th>Rank</th>\n",
       "      <th>Age</th>\n",
       "      <th>Residence</th>\n",
       "      <th>Citizenship</th>\n",
       "      <th>Status</th>\n",
       "      <th>Children</th>\n",
       "      <th>Education</th>\n",
       "      <th>Self_made</th>\n",
       "      <th>geometry</th>\n",
       "    </tr>\n",
       "  </thead>\n",
       "  <tbody>\n",
       "    <tr>\n",
       "      <th>940</th>\n",
       "      <td>Kevin David Lehmann</td>\n",
       "      <td>3.3</td>\n",
       "      <td>Germany</td>\n",
       "      <td>drugstores</td>\n",
       "      <td>925</td>\n",
       "      <td>18.0</td>\n",
       "      <td>NaN</td>\n",
       "      <td>Germany</td>\n",
       "      <td>NaN</td>\n",
       "      <td>NaN</td>\n",
       "      <td>NaN</td>\n",
       "      <td>False</td>\n",
       "      <td>POINT (10.4234469 51.0834196)</td>\n",
       "    </tr>\n",
       "  </tbody>\n",
       "</table>\n",
       "</div>"
      ],
      "text/plain": [
       "                    Name  NetWorth  Country      Source  Rank   Age Residence  \\\n",
       "940  Kevin David Lehmann       3.3  Germany  drugstores   925  18.0       NaN   \n",
       "\n",
       "    Citizenship Status  Children Education Self_made  \\\n",
       "940     Germany    NaN       NaN       NaN     False   \n",
       "\n",
       "                          geometry  \n",
       "940  POINT (10.4234469 51.0834196)  "
      ]
     },
     "execution_count": 14,
     "metadata": {},
     "output_type": "execute_result"
    }
   ],
   "source": [
    "### Studying Age & Self-made or not\n",
    "youngest = forbes['Age'].min()\n",
    "youngest = forbes[forbes['Age'] == 18]\n",
    "youngest"
   ]
  },
  {
   "cell_type": "code",
   "execution_count": null,
   "metadata": {},
   "outputs": [],
   "source": []
  },
  {
   "cell_type": "code",
   "execution_count": 15,
   "metadata": {},
   "outputs": [
    {
     "data": {
      "text/html": [
       "<div>\n",
       "<style scoped>\n",
       "    .dataframe tbody tr th:only-of-type {\n",
       "        vertical-align: middle;\n",
       "    }\n",
       "\n",
       "    .dataframe tbody tr th {\n",
       "        vertical-align: top;\n",
       "    }\n",
       "\n",
       "    .dataframe thead th {\n",
       "        text-align: right;\n",
       "    }\n",
       "</style>\n",
       "<table border=\"1\" class=\"dataframe\">\n",
       "  <thead>\n",
       "    <tr style=\"text-align: right;\">\n",
       "      <th></th>\n",
       "      <th>Name</th>\n",
       "      <th>NetWorth</th>\n",
       "      <th>Country</th>\n",
       "      <th>Source</th>\n",
       "      <th>Rank</th>\n",
       "      <th>Age</th>\n",
       "      <th>Residence</th>\n",
       "      <th>Citizenship</th>\n",
       "      <th>Status</th>\n",
       "      <th>Children</th>\n",
       "      <th>Education</th>\n",
       "      <th>Self_made</th>\n",
       "      <th>geometry</th>\n",
       "    </tr>\n",
       "  </thead>\n",
       "  <tbody>\n",
       "    <tr>\n",
       "      <th>1611</th>\n",
       "      <td>George Joseph</td>\n",
       "      <td>2.0</td>\n",
       "      <td>United States</td>\n",
       "      <td>insurance</td>\n",
       "      <td>1580</td>\n",
       "      <td>99.0</td>\n",
       "      <td>Los Angeles, California</td>\n",
       "      <td>United States</td>\n",
       "      <td>Married</td>\n",
       "      <td>5.0</td>\n",
       "      <td>Bachelor of Arts/Science, Harvard University</td>\n",
       "      <td>True</td>\n",
       "      <td>POINT (-118.242766 34.0536909)</td>\n",
       "    </tr>\n",
       "  </tbody>\n",
       "</table>\n",
       "</div>"
      ],
      "text/plain": [
       "               Name  NetWorth        Country     Source  Rank   Age  \\\n",
       "1611  George Joseph       2.0  United States  insurance  1580  99.0   \n",
       "\n",
       "                    Residence    Citizenship   Status  Children  \\\n",
       "1611  Los Angeles, California  United States  Married       5.0   \n",
       "\n",
       "                                         Education Self_made  \\\n",
       "1611  Bachelor of Arts/Science, Harvard University      True   \n",
       "\n",
       "                            geometry  \n",
       "1611  POINT (-118.242766 34.0536909)  "
      ]
     },
     "execution_count": 15,
     "metadata": {},
     "output_type": "execute_result"
    }
   ],
   "source": [
    "oldest = forbes['Age'].max()\n",
    "oldest = forbes[forbes['Age'] == 99]\n",
    "oldest"
   ]
  },
  {
   "cell_type": "code",
   "execution_count": 16,
   "metadata": {},
   "outputs": [
    {
     "data": {
      "text/plain": [
       "Name           55\n",
       "NetWorth       55\n",
       "Country        55\n",
       "Source         55\n",
       "Rank           55\n",
       "Age            55\n",
       "Residence      55\n",
       "Citizenship    55\n",
       "Status         53\n",
       "Children       49\n",
       "Education      24\n",
       "Self_made      55\n",
       "geometry       55\n",
       "dtype: int64"
      ]
     },
     "execution_count": 16,
     "metadata": {},
     "output_type": "execute_result"
    }
   ],
   "source": [
    "over_90 = forbes[forbes['Age'] > 90]\n",
    "age1.count()"
   ]
  },
  {
   "cell_type": "code",
   "execution_count": 18,
   "metadata": {},
   "outputs": [
    {
     "data": {
      "text/plain": [
       "Name           273\n",
       "NetWorth       273\n",
       "Country        273\n",
       "Source         273\n",
       "Rank           273\n",
       "Age            273\n",
       "Residence      271\n",
       "Citizenship    273\n",
       "Status         252\n",
       "Children       232\n",
       "Education      159\n",
       "Self_made      273\n",
       "geometry       273\n",
       "dtype: int64"
      ]
     },
     "execution_count": 18,
     "metadata": {},
     "output_type": "execute_result"
    }
   ],
   "source": [
    "80_90 = forbes[(forbes['Age'] >= 80) & (forbes['Age'] <= 90)]\n",
    "age2.count()"
   ]
  },
  {
   "cell_type": "code",
   "execution_count": 19,
   "metadata": {},
   "outputs": [
    {
     "data": {
      "text/plain": [
       "Name           547\n",
       "NetWorth       547\n",
       "Country        547\n",
       "Source         547\n",
       "Rank           547\n",
       "Age            547\n",
       "Residence      547\n",
       "Citizenship    547\n",
       "Status         495\n",
       "Children       425\n",
       "Education      288\n",
       "Self_made      547\n",
       "geometry       547\n",
       "dtype: int64"
      ]
     },
     "execution_count": 19,
     "metadata": {},
     "output_type": "execute_result"
    }
   ],
   "source": [
    "70_80 = forbes[(forbes['Age'] >= 70) & (forbes['Age'] < 80)]\n",
    "age3.count()"
   ]
  },
  {
   "cell_type": "code",
   "execution_count": 20,
   "metadata": {},
   "outputs": [
    {
     "data": {
      "text/plain": [
       "Name           631\n",
       "NetWorth       631\n",
       "Country        631\n",
       "Source         631\n",
       "Rank           631\n",
       "Age            631\n",
       "Residence      631\n",
       "Citizenship    631\n",
       "Status         534\n",
       "Children       443\n",
       "Education      361\n",
       "Self_made      631\n",
       "geometry       631\n",
       "dtype: int64"
      ]
     },
     "execution_count": 20,
     "metadata": {},
     "output_type": "execute_result"
    }
   ],
   "source": [
    "60_70 = forbes[(forbes['Age'] >= 60) & (forbes['Age'] < 70)]\n",
    "age4.count()"
   ]
  },
  {
   "cell_type": "code",
   "execution_count": 21,
   "metadata": {},
   "outputs": [
    {
     "data": {
      "text/plain": [
       "Name           729\n",
       "NetWorth       729\n",
       "Country        729\n",
       "Source         729\n",
       "Rank           729\n",
       "Age            729\n",
       "Residence      727\n",
       "Citizenship    729\n",
       "Status         490\n",
       "Children       274\n",
       "Education      353\n",
       "Self_made      729\n",
       "geometry       729\n",
       "dtype: int64"
      ]
     },
     "execution_count": 21,
     "metadata": {},
     "output_type": "execute_result"
    }
   ],
   "source": [
    "50_60 = forbes[(forbes['Age'] >= 50) & (forbes['Age'] < 60)]\n",
    "age5.count()"
   ]
  },
  {
   "cell_type": "code",
   "execution_count": 22,
   "metadata": {},
   "outputs": [
    {
     "data": {
      "text/plain": [
       "Name           291\n",
       "NetWorth       291\n",
       "Country        291\n",
       "Source         291\n",
       "Rank           291\n",
       "Age            291\n",
       "Residence      290\n",
       "Citizenship    291\n",
       "Status         171\n",
       "Children        93\n",
       "Education      148\n",
       "Self_made      291\n",
       "geometry       291\n",
       "dtype: int64"
      ]
     },
     "execution_count": 22,
     "metadata": {},
     "output_type": "execute_result"
    }
   ],
   "source": [
    "40_50 = forbes[(forbes['Age'] >= 40) & (forbes['Age'] < 50)]\n",
    "age6.count()"
   ]
  },
  {
   "cell_type": "code",
   "execution_count": 23,
   "metadata": {},
   "outputs": [
    {
     "data": {
      "text/plain": [
       "Name           94\n",
       "NetWorth       94\n",
       "Country        94\n",
       "Source         94\n",
       "Rank           94\n",
       "Age            94\n",
       "Residence      92\n",
       "Citizenship    94\n",
       "Status         58\n",
       "Children       28\n",
       "Education      55\n",
       "Self_made      94\n",
       "geometry       94\n",
       "dtype: int64"
      ]
     },
     "execution_count": 23,
     "metadata": {},
     "output_type": "execute_result"
    }
   ],
   "source": [
    "30_40 = forbes[(forbes['Age'] >= 30) & (forbes['Age'] < 40)]\n",
    "age7.count()"
   ]
  },
  {
   "cell_type": "code",
   "execution_count": 24,
   "metadata": {},
   "outputs": [
    {
     "data": {
      "text/plain": [
       "Name           9\n",
       "NetWorth       9\n",
       "Country        9\n",
       "Source         9\n",
       "Rank           9\n",
       "Age            9\n",
       "Residence      9\n",
       "Citizenship    9\n",
       "Status         5\n",
       "Children       0\n",
       "Education      5\n",
       "Self_made      8\n",
       "geometry       9\n",
       "dtype: int64"
      ]
     },
     "execution_count": 24,
     "metadata": {},
     "output_type": "execute_result"
    }
   ],
   "source": [
    "20_30 = forbes[(forbes['Age'] >= 20) & (forbes['Age'] < 30)]\n",
    "age8.count()"
   ]
  },
  {
   "cell_type": "code",
   "execution_count": 25,
   "metadata": {},
   "outputs": [
    {
     "data": {
      "text/plain": [
       "Name           1\n",
       "NetWorth       1\n",
       "Country        1\n",
       "Source         1\n",
       "Rank           1\n",
       "Age            1\n",
       "Residence      0\n",
       "Citizenship    1\n",
       "Status         0\n",
       "Children       0\n",
       "Education      0\n",
       "Self_made      1\n",
       "geometry       1\n",
       "dtype: int64"
      ]
     },
     "execution_count": 25,
     "metadata": {},
     "output_type": "execute_result"
    }
   ],
   "source": [
    "less_20 = forbes[forbes['Age'] < 20 ]\n",
    "age9.count()"
   ]
  },
  {
   "cell_type": "code",
   "execution_count": 28,
   "metadata": {},
   "outputs": [
    {
     "data": {
      "image/png": "[encoded data removed]",
      "text/plain": [
       "<Figure size 432x288 with 1 Axes>"
      ]
     },
     "metadata": {
      "needs_background": "light"
     },
     "output_type": "display_data"
    }
   ],
   "source": [
    "### Graph for age \n",
    "objects = ('over_90', '80_90', '70_80', '60_70', '50_60', '40_50', '30_40', '20_30', 'less_20')\n",
    "y_pos = np.arange(len(objects))\n",
    "output = [55, 273, 547,631,729,291,94,9,1]\n",
    "\n",
    "plt.bar(y_pos, output, align='center', alpha=0.5)\n",
    "plt.xticks(y_pos, objects)\n",
    "plt.ylabel('Total for each age division')\n",
    "plt.title('Age Breakdown of Billionaires')\n",
    "\n",
    "plt.show()"
   ]
  },
  {
   "cell_type": "code",
   "execution_count": null,
   "metadata": {},
   "outputs": [],
   "source": []
  }
 ],
 "metadata": {
  "kernelspec": {
   "display_name": "Python 3",
   "language": "python",
   "name": "python3"
  },
  "language_info": {
   "codemirror_mode": {
    "name": "ipython",
    "version": 3
   },
   "file_extension": ".py",
   "mimetype": "text/x-python",
   "name": "python",
   "nbconvert_exporter": "python",
   "pygments_lexer": "ipython3",
   "version": "3.8.10"
  }
 },
 "nbformat": 4,
 "nbformat_minor": 4
}
